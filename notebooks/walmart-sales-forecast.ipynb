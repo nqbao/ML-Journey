{
 "cells": [
  {
   "cell_type": "code",
   "execution_count": 61,
   "metadata": {
    "collapsed": false
   },
   "outputs": [
    {
     "name": "stdout",
     "output_type": "stream",
     "text": [
      "Total Number of Records 421570\n"
     ]
    }
   ],
   "source": [
    "# please download all the files from here https://www.kaggle.com/c/walmart-recruiting-store-sales-forecasting/data\n",
    "\n",
    "import pandas as pd\n",
    "import numpy as np\n",
    "\n",
    "train_df = pd.read_csv(\"train.csv\")\n",
    "test_df = pd.read_csv(\"test.csv\")\n",
    "features_df = pd.read_csv(\"features.csv\")\n",
    "stores_df = pd.read_csv(\"stores.csv\")\n",
    "\n",
    "def load_all():\n",
    "    train_df = pd.read_csv(\"train.csv\")\n",
    "    features_df = pd.read_csv(\"features.csv\")\n",
    "    stores_df = pd.read_csv(\"stores.csv\")\n",
    "    \n",
    "    return pd.merge(pd.merge(train_df, features_df), stores_df)\n",
    "\n",
    "print \"Total Number of Records\", len(train_df)"
   ]
  },
  {
   "cell_type": "code",
   "execution_count": 33,
   "metadata": {
    "collapsed": false
   },
   "outputs": [],
   "source": [
    "# configuration\n",
    "SEQ_LEN = 10 # give 9 weeks, predict the sale of next week\n",
    "FEATURES = ['DayOfYear', 'Weekly_Sales']"
   ]
  },
  {
   "cell_type": "code",
   "execution_count": 63,
   "metadata": {
    "collapsed": false
   },
   "outputs": [
    {
     "name": "stdout",
     "output_type": "stream",
     "text": [
      "Number of store 1 & dep 1 records: 143\n"
     ]
    }
   ],
   "source": [
    "from datetime import datetime\n",
    "\n",
    "def convert_day_of_year(x):\n",
    "    return datetime.strptime(x, \"%Y-%m-%d\").timetuple().tm_yday\n",
    "\n",
    "def sliding(x, seq_len):\n",
    "    t = np.zeros([x.shape[0] - seq_len + 1, seq_len, x.shape[1]])\n",
    "    for i in range(t.shape[0]):\n",
    "        t[i,:,:] = x[i:i+seq_len,:]\n",
    "    \n",
    "    return t\n",
    "\n",
    "# Try to predict the sales for only 1 store and 1 department\n",
    "store_1_sales = train_df[(train_df.Store == 1) & (train_df.Dept == 1)]\n",
    "store_1_features = features_df[features_df.Store == 1]\n",
    "store_1 = pd.merge(store_1_sales, store_1_features)\n",
    "store_1['DayOfYear'] = store_1['Date'].apply(convert_day_of_year)\n",
    "\n",
    "store_1 = store_1[FEATURES]\n",
    "print \"Number of store 1 & dep 1 records:\", len(store_1)\n",
    "\n",
    "# sliding\n",
    "result = sliding(store_1.values, SEQ_LEN)\n",
    "\n",
    "# also split into train & test\n",
    "num_train = int(len(result) * 0.9)\n",
    "store_1_train = result[:num_train]\n",
    "store_1_test = result[num_train:]\n",
    "\n",
    "# some normalization\n",
    "train_mean = store_1_train[0].mean()\n",
    "train_std = store_1_train[0].std()\n",
    "\n",
    "store_1_train[0] /= train_std\n",
    "store_1_test[0] /= train_std\n",
    "\n",
    "np.random.shuffle(store_1_train)\n",
    "X_train = store_1_train[:, :SEQ_LEN - 1]\n",
    "Y_train = store_1_train[:, SEQ_LEN - 1, len(FEATURES) - 1]\n",
    "\n",
    "X_test = store_1_test[:, :SEQ_LEN - 1]\n",
    "Y_test = store_1_test[:, SEQ_LEN - 1, len(FEATURES) - 1]"
   ]
  },
  {
   "cell_type": "code",
   "execution_count": 64,
   "metadata": {
    "collapsed": false
   },
   "outputs": [],
   "source": [
    "from keras.models import Sequential\n",
    "from keras.layers import Dense, Activation, Dropout, Masking\n",
    "from keras.layers.recurrent import LSTM\n",
    "\n",
    "def build_model(seq_len, num_features):\n",
    "    model = Sequential()\n",
    "\n",
    "    #model.add(Masking(0, input_shape=(seq_len-1, num_features)))\n",
    "    model.add(LSTM(20, init='lecun_uniform', return_sequences=False, input_shape=(seq_len-1, num_features)))\n",
    "    #model.add(Dropout(0.2))\n",
    "    #model.add(LSTM(20, return_sequences=False))\n",
    "    #model.add(Dropout(0.2))\n",
    "    model.add(Dense(output_dim=max(1, num_features-1)))\n",
    "    model.add(Activation('linear'))\n",
    "    \n",
    "    model.compile(loss=\"mse\", optimizer=\"rmsprop\")\n",
    "    return model"
   ]
  },
  {
   "cell_type": "code",
   "execution_count": 65,
   "metadata": {
    "collapsed": false
   },
   "outputs": [],
   "source": [
    "model = build_model(SEQ_LEN, len(FEATURES))"
   ]
  },
  {
   "cell_type": "code",
   "execution_count": 66,
   "metadata": {
    "collapsed": false
   },
   "outputs": [],
   "source": [
    "def train(model, X_train, Y_train):\n",
    "    epochs = 1000\n",
    "    \n",
    "    try:\n",
    "        model.fit(\n",
    "            X_train, Y_train,\n",
    "            batch_size=512, nb_epoch=epochs, validation_split=0.1,\n",
    "            verbose=0\n",
    "        )\n",
    "    except Exception as ex:\n",
    "        print ex\n",
    "    \n",
    "    return model"
   ]
  },
  {
   "cell_type": "code",
   "execution_count": 67,
   "metadata": {
    "collapsed": false
   },
   "outputs": [],
   "source": [
    "model = train(model, X_train, Y_train)"
   ]
  },
  {
   "cell_type": "code",
   "execution_count": 69,
   "metadata": {
    "collapsed": false
   },
   "outputs": [
    {
     "data": {
      "text/plain": [
       "(array([[ 0.81281161],\n",
       "        [ 6.68711233],\n",
       "        [ 6.68711233],\n",
       "        [ 6.68711233],\n",
       "        [ 6.68711233],\n",
       "        [ 6.68711233],\n",
       "        [ 6.68711233],\n",
       "        [ 6.68711233],\n",
       "        [ 6.68711233],\n",
       "        [ 6.68711233]]),\n",
       " array([  8.52066759e-01,   1.66283100e+04,   1.61199200e+04,\n",
       "          1.73307000e+04,   1.62864000e+04,   1.66802400e+04,\n",
       "          1.83223700e+04,   1.96162200e+04,   1.92515000e+04,\n",
       "          1.89478100e+04]))"
      ]
     },
     "execution_count": 69,
     "metadata": {},
     "output_type": "execute_result"
    }
   ],
   "source": [
    "model.predict(X_test[0:10]), Y_test[0:10]"
   ]
  },
  {
   "cell_type": "code",
   "execution_count": null,
   "metadata": {
    "collapsed": true
   },
   "outputs": [],
   "source": []
  }
 ],
 "metadata": {
  "kernelspec": {
   "display_name": "Python 2",
   "language": "python",
   "name": "python2"
  },
  "language_info": {
   "codemirror_mode": {
    "name": "ipython",
    "version": 2
   },
   "file_extension": ".py",
   "mimetype": "text/x-python",
   "name": "python",
   "nbconvert_exporter": "python",
   "pygments_lexer": "ipython2",
   "version": "2.7.10"
  }
 },
 "nbformat": 4,
 "nbformat_minor": 0
}
