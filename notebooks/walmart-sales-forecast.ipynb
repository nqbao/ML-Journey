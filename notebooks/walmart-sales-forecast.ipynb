{
 "cells": [
  {
   "cell_type": "code",
   "execution_count": 158,
   "metadata": {
    "collapsed": false
   },
   "outputs": [],
   "source": [
    "import pandas as pd\n",
    "import numpy as np\n",
    "\n",
    "train_df = pd.read_csv(\"train.csv\")\n",
    "test_df = pd.read_csv(\"test.csv\")\n",
    "features_df = pd.read_csv(\"features.csv\")\n",
    "stores_df = pd.read_csv(\"stores.csv\")\n",
    "\n",
    "def load_all():\n",
    "    train_df = pd.read_csv(\"train.csv\")\n",
    "    features_df = pd.read_csv(\"features.csv\")\n",
    "    stores_df = pd.read_csv(\"stores.csv\")\n",
    "    \n",
    "    return pd.merge(pd.merge(train_df, features_df), stores_df)"
   ]
  },
  {
   "cell_type": "code",
   "execution_count": 314,
   "metadata": {
    "collapsed": false
   },
   "outputs": [],
   "source": [
    "# configuration\n",
    "SEQ_LEN = 10 # give 10 weeks, predict the sale of next week\n",
    "FEATURES = ['DayOfYear', 'Weekly_Sales']"
   ]
  },
  {
   "cell_type": "code",
   "execution_count": 317,
   "metadata": {
    "collapsed": false
   },
   "outputs": [
    {
     "name": "stdout",
     "output_type": "stream",
     "text": [
      "(107, 9, 2) (107,)\n"
     ]
    }
   ],
   "source": [
    "# do a simple model to predict price from a store\n",
    "from datetime import datetime\n",
    "\n",
    "def convert_day_of_year(x):\n",
    "    return datetime.strptime(x, \"%Y-%m-%d\").timetuple().tm_yday\n",
    "\n",
    "def sliding(x, seq_len):\n",
    "    t = np.zeros([x.shape[0] - seq_len + 1, seq_len, x.shape[1]])\n",
    "    for i in range(t.shape[0]):\n",
    "        t[i,:,:] = x[i:i+seq_len,:]\n",
    "    \n",
    "    return t\n",
    "\n",
    "store_1_sales = train_df[(train_df.Store == 1) & (train_df.Dept == 1)]\n",
    "store_1_features = features_df[features_df.Store == 1]\n",
    "store_1 = pd.merge(store_1_sales[[\"Store\", \"Dept\", \"Date\", \"Weekly_Sales\"]], store_1_features)\n",
    "store_1['DayOfYear'] = store_1['Date'].apply(convert_day_of_year)\n",
    "\n",
    "# for now only use Weekly_Sales for prediction\n",
    "store_1 = store_1[FEATURES]\n",
    "\n",
    "# sliding\n",
    "result = sliding(store_1.values, SEQ_LEN)\n",
    "\n",
    "# also split into train & test\n",
    "num_train = int(len(result) * 0.8)\n",
    "store_1_train = result[:num_train]\n",
    "store_1_test = result[-num_train:]\n",
    "\n",
    "# some normalization\n",
    "train_mean = store_1_train[0].mean()\n",
    "train_std = store_1_train[0].std()\n",
    "\n",
    "store_1_train[0] /= train_std\n",
    "store_1_test[0] -= train_std\n",
    "\n",
    "np.random.shuffle(store_1_train)\n",
    "X_train = store_1_train[:, :SEQ_LEN - 1]\n",
    "Y_train = store_1_train[:, SEQ_LEN - 1, len(FEATURES) - 1]\n",
    "\n",
    "X_test = store_1_test[:, :SEQ_LEN - 1]\n",
    "Y_test = store_1_test[:, SEQ_LEN - 1, len(FEATURES) - 1]\n",
    "\n",
    "print X_train.shape, Y_train.shape"
   ]
  },
  {
   "cell_type": "code",
   "execution_count": 337,
   "metadata": {
    "collapsed": false
   },
   "outputs": [],
   "source": [
    "from keras.models import Sequential\n",
    "from keras.layers import Dense, Activation, Dropout, Masking\n",
    "from keras.layers.recurrent import LSTM\n",
    "import math\n",
    "\n",
    "def build_model(seq_len, num_features):\n",
    "    model = Sequential()\n",
    "\n",
    "    #model.add(Masking(0, input_shape=(seq_len-1, num_features)))\n",
    "    model.add(LSTM(256, return_sequences=False, input_shape=(seq_len-1, num_features)))\n",
    "    #model.add(Dropout(0.2))\n",
    "    #model.add(LSTM(20, return_sequences=False))\n",
    "    #model.add(Dropout(0.2))\n",
    "    model.add(Dense(output_dim=math.max(1, num_features-1)))\n",
    "    model.add(Activation('linear'))\n",
    "    \n",
    "    model.compile(loss=\"mse\", optimizer=\"rmsprop\")\n",
    "    return model"
   ]
  },
  {
   "cell_type": "code",
   "execution_count": 338,
   "metadata": {
    "collapsed": false
   },
   "outputs": [
    {
     "ename": "AttributeError",
     "evalue": "'module' object has no attribute 'max'",
     "output_type": "error",
     "traceback": [
      "\u001b[0;31m---------------------------------------------------------------------------\u001b[0m",
      "\u001b[0;31mAttributeError\u001b[0m                            Traceback (most recent call last)",
      "\u001b[0;32m<ipython-input-338-8c212b8c9a3c>\u001b[0m in \u001b[0;36m<module>\u001b[0;34m()\u001b[0m\n\u001b[0;32m----> 1\u001b[0;31m \u001b[0mmodel\u001b[0m \u001b[0;34m=\u001b[0m \u001b[0mbuild_model\u001b[0m\u001b[0;34m(\u001b[0m\u001b[0mSEQ_LEN\u001b[0m\u001b[0;34m,\u001b[0m \u001b[0mlen\u001b[0m\u001b[0;34m(\u001b[0m\u001b[0mFEATURES\u001b[0m\u001b[0;34m)\u001b[0m\u001b[0;34m)\u001b[0m\u001b[0;34m\u001b[0m\u001b[0m\n\u001b[0m",
      "\u001b[0;32m<ipython-input-337-2311e9536d1c>\u001b[0m in \u001b[0;36mbuild_model\u001b[0;34m(seq_len, num_features)\u001b[0m\n\u001b[1;32m     12\u001b[0m     \u001b[0;31m#model.add(LSTM(20, return_sequences=False))\u001b[0m\u001b[0;34m\u001b[0m\u001b[0;34m\u001b[0m\u001b[0m\n\u001b[1;32m     13\u001b[0m     \u001b[0;31m#model.add(Dropout(0.2))\u001b[0m\u001b[0;34m\u001b[0m\u001b[0;34m\u001b[0m\u001b[0m\n\u001b[0;32m---> 14\u001b[0;31m     \u001b[0mmodel\u001b[0m\u001b[0;34m.\u001b[0m\u001b[0madd\u001b[0m\u001b[0;34m(\u001b[0m\u001b[0mDense\u001b[0m\u001b[0;34m(\u001b[0m\u001b[0moutput_dim\u001b[0m\u001b[0;34m=\u001b[0m\u001b[0mmath\u001b[0m\u001b[0;34m.\u001b[0m\u001b[0mmax\u001b[0m\u001b[0;34m(\u001b[0m\u001b[0;36m1\u001b[0m\u001b[0;34m,\u001b[0m \u001b[0mnum_features\u001b[0m\u001b[0;34m-\u001b[0m\u001b[0;36m1\u001b[0m\u001b[0;34m)\u001b[0m\u001b[0;34m)\u001b[0m\u001b[0;34m)\u001b[0m\u001b[0;34m\u001b[0m\u001b[0m\n\u001b[0m\u001b[1;32m     15\u001b[0m     \u001b[0mmodel\u001b[0m\u001b[0;34m.\u001b[0m\u001b[0madd\u001b[0m\u001b[0;34m(\u001b[0m\u001b[0mActivation\u001b[0m\u001b[0;34m(\u001b[0m\u001b[0;34m'linear'\u001b[0m\u001b[0;34m)\u001b[0m\u001b[0;34m)\u001b[0m\u001b[0;34m\u001b[0m\u001b[0m\n\u001b[1;32m     16\u001b[0m \u001b[0;34m\u001b[0m\u001b[0m\n",
      "\u001b[0;31mAttributeError\u001b[0m: 'module' object has no attribute 'max'"
     ]
    }
   ],
   "source": [
    "model = build_model(SEQ_LEN, len(FEATURES))"
   ]
  },
  {
   "cell_type": "code",
   "execution_count": 327,
   "metadata": {
    "collapsed": false
   },
   "outputs": [],
   "source": [
    "def train(model, X_train, Y_train, X_test):\n",
    "    epochs = 1000\n",
    "    predicted = None\n",
    "    \n",
    "    try:\n",
    "        model.fit(\n",
    "            X_train, Y_train,\n",
    "            batch_size=512, nb_epoch=epochs, validation_split=0.1,\n",
    "            verbose=0\n",
    "        )\n",
    "        predicted = model.predict(X_test)\n",
    "    except Exception as ex:\n",
    "        print ex\n",
    "    \n",
    "    return model, predicted"
   ]
  },
  {
   "cell_type": "code",
   "execution_count": null,
   "metadata": {
    "collapsed": false
   },
   "outputs": [],
   "source": [
    "model, predicted = train(model, X_train, Y_train, X_test)"
   ]
  },
  {
   "cell_type": "code",
   "execution_count": 334,
   "metadata": {
    "collapsed": false
   },
   "outputs": [
    {
     "data": {
      "text/plain": [
       "array([[-23808.13436798, -16489.45436798, -18861.08436798, ...,\n",
       "        -22698.35436798, -24119.61436798, -27325.15436798],\n",
       "       [-23808.13436798, -16489.45436798, -18861.08436798, ...,\n",
       "        -22698.35436798, -24119.61436798, -27325.15436798],\n",
       "       [-23808.13436798, -16489.45436798, -18861.08436798, ...,\n",
       "        -22698.35436798, -24119.61436798, -27325.15436798],\n",
       "       ..., \n",
       "       [-23808.13435272, -16489.45435272, -18861.08435272, ...,\n",
       "        -22698.35435272, -24119.61435272, -27325.15435272],\n",
       "       [-23808.13435272, -16489.45435272, -18861.08435272, ...,\n",
       "        -22698.35435272, -24119.61435272, -27325.15435272],\n",
       "       [-23808.13435272, -16489.45435272, -18861.08435272, ...,\n",
       "        -22698.35435272, -24119.61435272, -27325.15435272]])"
      ]
     },
     "execution_count": 334,
     "metadata": {},
     "output_type": "execute_result"
    }
   ],
   "source": [
    "predicted - Y_test"
   ]
  },
  {
   "cell_type": "code",
   "execution_count": null,
   "metadata": {
    "collapsed": true
   },
   "outputs": [],
   "source": []
  }
 ],
 "metadata": {
  "kernelspec": {
   "display_name": "Python 2",
   "language": "python",
   "name": "python2"
  },
  "language_info": {
   "codemirror_mode": {
    "name": "ipython",
    "version": 2
   },
   "file_extension": ".py",
   "mimetype": "text/x-python",
   "name": "python",
   "nbconvert_exporter": "python",
   "pygments_lexer": "ipython2",
   "version": "2.7.10"
  }
 },
 "nbformat": 4,
 "nbformat_minor": 0
}
