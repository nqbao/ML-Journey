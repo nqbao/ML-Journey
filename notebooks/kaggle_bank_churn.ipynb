{
 "cells": [
  {
   "cell_type": "code",
   "execution_count": 5,
   "id": "40fd9e9b-c3c6-4c27-b85f-ef197e71fff7",
   "metadata": {},
   "outputs": [
    {
     "name": "stdout",
     "output_type": "stream",
     "text": [
      "Downloading playground-series-s4e1.zip to /Users/bnguyen/Code/sandbox/ML-Journey/notebooks/bank_churn\n",
      "... resuming from 0 bytes (7141098 bytes left) ...\n",
      " 73%|███████████████████████████▉          | 5.00M/6.81M [00:00<00:00, 28.2MB/s]\n",
      "100%|██████████████████████████████████████| 6.81M/6.81M [00:00<00:00, 31.9MB/s]\n",
      "Archive:  playground-series-s4e1.zip\n",
      "  inflating: sample_submission.csv   \n",
      "  inflating: test.csv                \n",
      "  inflating: train.csv               \n"
     ]
    }
   ],
   "source": [
    "!mkdir -p bank_churn && cd bank_churn && kaggle competitions download -c playground-series-s4e1 && unzip playground-series-s4e1.zip"
   ]
  },
  {
   "cell_type": "code",
   "execution_count": 131,
   "id": "88d8580c-6ba1-46f6-9286-d394ddda8d12",
   "metadata": {},
   "outputs": [],
   "source": [
    "import pandas as pd\n",
    "import matplotlib.pyplot as plt\n",
    "from sklearn.metrics import accuracy_score, classification_report\n",
    "from sklearn.model_selection import train_test_split"
   ]
  },
  {
   "cell_type": "code",
   "execution_count": 21,
   "id": "81198479-da96-43c0-bea4-9b88ba98e1f5",
   "metadata": {},
   "outputs": [
    {
     "data": {
      "text/plain": [
       "(165034, 110023)"
      ]
     },
     "execution_count": 21,
     "metadata": {},
     "output_type": "execute_result"
    }
   ],
   "source": [
    "train_df = pd.read_csv(\"bank_churn/train.csv\")\n",
    "test_df = pd.read_csv(\"bank_churn/test.csv\")\n",
    "\n",
    "len(train_df), len(test_df)"
   ]
  },
  {
   "cell_type": "code",
   "execution_count": 23,
   "id": "b77a05d0-e973-4b11-b551-c5cf8be9a3a9",
   "metadata": {},
   "outputs": [
    {
     "data": {
      "text/html": [
       "<div>\n",
       "<style scoped>\n",
       "    .dataframe tbody tr th:only-of-type {\n",
       "        vertical-align: middle;\n",
       "    }\n",
       "\n",
       "    .dataframe tbody tr th {\n",
       "        vertical-align: top;\n",
       "    }\n",
       "\n",
       "    .dataframe thead th {\n",
       "        text-align: right;\n",
       "    }\n",
       "</style>\n",
       "<table border=\"1\" class=\"dataframe\">\n",
       "  <thead>\n",
       "    <tr style=\"text-align: right;\">\n",
       "      <th></th>\n",
       "      <th>id</th>\n",
       "      <th>CustomerId</th>\n",
       "      <th>Surname</th>\n",
       "      <th>CreditScore</th>\n",
       "      <th>Geography</th>\n",
       "      <th>Gender</th>\n",
       "      <th>Age</th>\n",
       "      <th>Tenure</th>\n",
       "      <th>Balance</th>\n",
       "      <th>NumOfProducts</th>\n",
       "      <th>HasCrCard</th>\n",
       "      <th>IsActiveMember</th>\n",
       "      <th>EstimatedSalary</th>\n",
       "      <th>Exited</th>\n",
       "    </tr>\n",
       "  </thead>\n",
       "  <tbody>\n",
       "    <tr>\n",
       "      <th>0</th>\n",
       "      <td>0</td>\n",
       "      <td>15674932</td>\n",
       "      <td>Okwudilichukwu</td>\n",
       "      <td>668</td>\n",
       "      <td>France</td>\n",
       "      <td>Male</td>\n",
       "      <td>33.0</td>\n",
       "      <td>3</td>\n",
       "      <td>0.00</td>\n",
       "      <td>2</td>\n",
       "      <td>1.0</td>\n",
       "      <td>0.0</td>\n",
       "      <td>181449.97</td>\n",
       "      <td>0</td>\n",
       "    </tr>\n",
       "    <tr>\n",
       "      <th>1</th>\n",
       "      <td>1</td>\n",
       "      <td>15749177</td>\n",
       "      <td>Okwudiliolisa</td>\n",
       "      <td>627</td>\n",
       "      <td>France</td>\n",
       "      <td>Male</td>\n",
       "      <td>33.0</td>\n",
       "      <td>1</td>\n",
       "      <td>0.00</td>\n",
       "      <td>2</td>\n",
       "      <td>1.0</td>\n",
       "      <td>1.0</td>\n",
       "      <td>49503.50</td>\n",
       "      <td>0</td>\n",
       "    </tr>\n",
       "    <tr>\n",
       "      <th>2</th>\n",
       "      <td>2</td>\n",
       "      <td>15694510</td>\n",
       "      <td>Hsueh</td>\n",
       "      <td>678</td>\n",
       "      <td>France</td>\n",
       "      <td>Male</td>\n",
       "      <td>40.0</td>\n",
       "      <td>10</td>\n",
       "      <td>0.00</td>\n",
       "      <td>2</td>\n",
       "      <td>1.0</td>\n",
       "      <td>0.0</td>\n",
       "      <td>184866.69</td>\n",
       "      <td>0</td>\n",
       "    </tr>\n",
       "    <tr>\n",
       "      <th>3</th>\n",
       "      <td>3</td>\n",
       "      <td>15741417</td>\n",
       "      <td>Kao</td>\n",
       "      <td>581</td>\n",
       "      <td>France</td>\n",
       "      <td>Male</td>\n",
       "      <td>34.0</td>\n",
       "      <td>2</td>\n",
       "      <td>148882.54</td>\n",
       "      <td>1</td>\n",
       "      <td>1.0</td>\n",
       "      <td>1.0</td>\n",
       "      <td>84560.88</td>\n",
       "      <td>0</td>\n",
       "    </tr>\n",
       "    <tr>\n",
       "      <th>4</th>\n",
       "      <td>4</td>\n",
       "      <td>15766172</td>\n",
       "      <td>Chiemenam</td>\n",
       "      <td>716</td>\n",
       "      <td>Spain</td>\n",
       "      <td>Male</td>\n",
       "      <td>33.0</td>\n",
       "      <td>5</td>\n",
       "      <td>0.00</td>\n",
       "      <td>2</td>\n",
       "      <td>1.0</td>\n",
       "      <td>1.0</td>\n",
       "      <td>15068.83</td>\n",
       "      <td>0</td>\n",
       "    </tr>\n",
       "  </tbody>\n",
       "</table>\n",
       "</div>"
      ],
      "text/plain": [
       "   id  CustomerId         Surname  CreditScore Geography Gender   Age  Tenure  \\\n",
       "0   0    15674932  Okwudilichukwu          668    France   Male  33.0       3   \n",
       "1   1    15749177   Okwudiliolisa          627    France   Male  33.0       1   \n",
       "2   2    15694510           Hsueh          678    France   Male  40.0      10   \n",
       "3   3    15741417             Kao          581    France   Male  34.0       2   \n",
       "4   4    15766172       Chiemenam          716     Spain   Male  33.0       5   \n",
       "\n",
       "     Balance  NumOfProducts  HasCrCard  IsActiveMember  EstimatedSalary  \\\n",
       "0       0.00              2        1.0             0.0        181449.97   \n",
       "1       0.00              2        1.0             1.0         49503.50   \n",
       "2       0.00              2        1.0             0.0        184866.69   \n",
       "3  148882.54              1        1.0             1.0         84560.88   \n",
       "4       0.00              2        1.0             1.0         15068.83   \n",
       "\n",
       "   Exited  \n",
       "0       0  \n",
       "1       0  \n",
       "2       0  \n",
       "3       0  \n",
       "4       0  "
      ]
     },
     "execution_count": 23,
     "metadata": {},
     "output_type": "execute_result"
    }
   ],
   "source": [
    "train_df.head()"
   ]
  },
  {
   "cell_type": "code",
   "execution_count": 19,
   "id": "f72b7e5e-e1bd-4b3d-a4a3-9d4b04f5cefc",
   "metadata": {},
   "outputs": [
    {
     "data": {
      "image/png": "[encoded data removed]",
      "text/plain": [
       "<Figure size 640x480 with 1 Axes>"
      ]
     },
     "metadata": {},
     "output_type": "display_data"
    }
   ],
   "source": [
    "x = train_df.groupby('Exited').size()\n",
    "plt.bar([0, 1], x)\n",
    "plt.xticks([0, 1])\n",
    "plt.show()"
   ]
  },
  {
   "cell_type": "code",
   "execution_count": 160,
   "id": "dde4718e-1440-4f4f-993f-61a78505a7d3",
   "metadata": {},
   "outputs": [],
   "source": [
    "features = [\n",
    "    \"NumOfProducts\",\n",
    "    \"CreditScore\",\n",
    "    \"Geography\",\n",
    "    \"Gender\",\n",
    "    \"Age\",\n",
    "    \"Tenure\",\n",
    "    \"Balance\",\n",
    "    \"HasCrCard\",\n",
    "    \"IsActiveMember\",\n",
    "    \"EstimatedSalary\"\n",
    "]\n"
   ]
  },
  {
   "cell_type": "code",
   "execution_count": 144,
   "id": "c95dbda4-455e-4c9c-8826-62d23cddf6aa",
   "metadata": {},
   "outputs": [],
   "source": [
    "train_df['Geography'] = train_df['Geography'].astype('category')\n",
    "train_df['Gender'] = train_df['Gender'].astype('category')\n",
    "\n",
    "test_df = test_df.astype(dtype={\n",
    "    \"Geography\": train_df.dtypes['Geography'],\n",
    "    \"Gender\": train_df.dtypes['Gender'],\n",
    "})\n",
    "\n",
    "original_train_df = train_df"
   ]
  },
  {
   "cell_type": "code",
   "execution_count": 145,
   "id": "2585cb56-12b8-4e5b-b9b2-e85de8639b25",
   "metadata": {},
   "outputs": [],
   "source": [
    "train_df, val_df = train_test_split(original_train_df, random_state=42, test_size=0.15)"
   ]
  },
  {
   "cell_type": "code",
   "execution_count": 206,
   "id": "a3632c02-c598-4011-9e88-44a92b065272",
   "metadata": {},
   "outputs": [
    {
     "data": {
      "text/plain": [
       "0.7879499480022812"
      ]
     },
     "execution_count": 206,
     "metadata": {},
     "output_type": "execute_result"
    }
   ],
   "source": [
    "len(train_df[train_df.Exited == 0]) / len(train_df)"
   ]
  },
  {
   "cell_type": "code",
   "execution_count": 199,
   "id": "80c90873-0c84-416d-af3b-d78a08b57c28",
   "metadata": {},
   "outputs": [
    {
     "name": "stdout",
     "output_type": "stream",
     "text": [
      "0.8658872730729018\n",
      "              precision    recall  f1-score   support\n",
      "\n",
      "           0       0.95      0.89      0.92     17701\n",
      "           1       0.56      0.74      0.64      3341\n",
      "\n",
      "    accuracy                           0.87     21042\n",
      "   macro avg       0.75      0.81      0.78     21042\n",
      "weighted avg       0.89      0.87      0.87     21042\n",
      "\n"
     ]
    }
   ],
   "source": [
    "\n",
    "\n",
    "params = {  \n",
    "  'objective'             : 'binary:logistic',\n",
    "  'eval_metric'           : \"auc\",\n",
    "  'max_depth': 8,\n",
    "  'min_child_weight': 9, \n",
    "  'learning_rate': 0.015784217705381666,\n",
    "  'n_estimators': 928, \n",
    "  'subsample': 0.8311128887439883,\n",
    "  'colsample_bytree': 0.3454344427319984,\n",
    "}\n",
    "\n",
    "# n_estimators=50,\n",
    "# max_depth=4,\n",
    "\n",
    "import xgboost\n",
    "clf = xgboost.XGBClassifier(\n",
    "    random_state=42,\n",
    "    # scale_pos_weight=len(train_df[train_df.Exited == 0]) / len(train_df[train_df.Exited == 1]),\n",
    "    enable_categorical=True,\n",
    "    # **params,\n",
    ")\n",
    "clf.fit(train_df[features], train_df['Exited'])\n",
    "\n",
    "score = clf.predict(val_df[features])\n",
    "print(accuracy_score(score, val_df['Exited']))\n",
    "print(classification_report(\n",
    "    score,\n",
    "    val_df['Exited'],\n",
    "))\n"
   ]
  },
  {
   "cell_type": "code",
   "execution_count": 201,
   "id": "f82580b2-f860-4453-b08b-f8b5f14cbb97",
   "metadata": {},
   "outputs": [
    {
     "data": {
      "image/png": "[encoded data removed]",
      "text/plain": [
       "<Figure size 640x480 with 1 Axes>"
      ]
     },
     "metadata": {},
     "output_type": "display_data"
    }
   ],
   "source": [
    "from xgboost import plot_importance\n",
    "\n",
    "plot_importance(clf)\n",
    "plt.show()"
   ]
  },
  {
   "cell_type": "code",
   "execution_count": 195,
   "id": "17b409f7-e99a-45e0-98c9-a8b7f0ef5e2f",
   "metadata": {},
   "outputs": [],
   "source": [
    "ids = test_df['id']\n",
    "exit_prop = clf.predict_proba(test_df[features])[:, 1]\n",
    "pd.DataFrame({\"id\": ids, \"Exited\": exit_prop}).to_csv(\"bank_churn/submission.csv\", index=False)"
   ]
  }
 ],
 "metadata": {
  "kernelspec": {
   "display_name": "Python 3 (ipykernel)",
   "language": "python",
   "name": "python3"
  },
  "language_info": {
   "codemirror_mode": {
    "name": "ipython",
    "version": 3
   },
   "file_extension": ".py",
   "mimetype": "text/x-python",
   "name": "python",
   "nbconvert_exporter": "python",
   "pygments_lexer": "ipython3",
   "version": "3.10.12"
  }
 },
 "nbformat": 4,
 "nbformat_minor": 5
}
