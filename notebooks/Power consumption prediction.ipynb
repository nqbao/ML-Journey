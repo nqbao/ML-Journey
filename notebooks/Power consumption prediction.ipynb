{
 "cells": [
  {
   "cell_type": "markdown",
   "metadata": {},
   "source": [
    "This is a redo of https://github.com/Vict0rSch/deep_learning/tree/master/keras/recurrent."
   ]
  },
  {
   "cell_type": "code",
   "execution_count": 3,
   "metadata": {
    "collapsed": false
   },
   "outputs": [
    {
     "name": "stdout",
     "output_type": "stream",
     "text": [
      "--2016-07-12 16:19:11--  https://archive.ics.uci.edu/ml/machine-learning-databases/00235/household_power_consumption.zip\n",
      "Resolving archive.ics.uci.edu... 128.195.10.249\n",
      "Connecting to archive.ics.uci.edu|128.195.10.249|:443... connected.\n",
      "HTTP request sent, awaiting response... 200 OK\n",
      "Length: 20640916 (20M) [application/zip]\n",
      "Saving to: 'household_power_consumption.zip'\n",
      "\n",
      "household_power_con 100%[=====================>]  19.68M   396KB/s   in 61s    \n",
      "\n",
      "2016-07-12 16:20:13 (331 KB/s) - 'household_power_consumption.zip' saved [20640916/20640916]\n",
      "\n",
      "Archive:  household_power_consumption.zip\n",
      "  inflating: household_power_consumption.txt  \n"
     ]
    }
   ],
   "source": [
    "!wget https://archive.ics.uci.edu/ml/machine-learning-databases/00235/household_power_consumption.zip\n",
    "!unzip household_power_consumption.zip"
   ]
  },
  {
   "cell_type": "code",
   "execution_count": 1,
   "metadata": {
    "collapsed": false
   },
   "outputs": [
    {
     "name": "stderr",
     "output_type": "stream",
     "text": [
      "/Users/baonguyen/tf/lib/python2.7/site-packages/matplotlib/font_manager.py:273: UserWarning: Matplotlib is building the font cache using fc-list. This may take a moment.\n",
      "  warnings.warn('Matplotlib is building the font cache using fc-list. This may take a moment.')\n",
      "Using TensorFlow backend.\n"
     ]
    }
   ],
   "source": [
    "%matplotlib inline\n",
    "\n",
    "import matplotlib\n",
    "import matplotlib.pyplot as plt\n",
    "import numpy as np\n",
    "import time\n",
    "import csv\n",
    "from keras.models import Sequential\n",
    "from keras.layers.core import Dense, Activation, Dropout\n",
    "from keras.layers.recurrent import LSTM\n",
    "\n",
    "np.random.seed(1234)"
   ]
  },
  {
   "cell_type": "code",
   "execution_count": 13,
   "metadata": {
    "collapsed": true
   },
   "outputs": [],
   "source": [
    "def data_power_consumption(path_to_file='household_power_consumption.txt', sequence_length=50, ratio=1.0):\n",
    "    max_values = ratio * 2049280\n",
    "\n",
    "    with open(path_to_file) as f:\n",
    "        data = csv.reader(f, delimiter=\";\")\n",
    "        power = []\n",
    "        nb_of_values = 0\n",
    "        for line in data:\n",
    "            try:\n",
    "                power.append(float(line[2]))\n",
    "                nb_of_values += 1\n",
    "            except ValueError:\n",
    "                pass\n",
    "            # 2049280.0 is the total number of valid values, i.e. ratio = 1.0\n",
    "            if nb_of_values / 2049280.0 >= ratio:\n",
    "                break\n",
    "                \n",
    "    result = []\n",
    "    for index in range(len(power) - sequence_length):\n",
    "        result.append(power[index: index + sequence_length])\n",
    "    result = np.array(result)  # shape (2049230, 50)\n",
    "    result_mean = result.mean()\n",
    "    result -= result_mean\n",
    "    print \"Shift : \", result_mean\n",
    "    print \"Data  : \", result.shape\n",
    "\n",
    "    row = round(0.9 * result.shape[0])\n",
    "    train = result[:row, :]\n",
    "    np.random.shuffle(train)\n",
    "    X_train = train[:, :-1]\n",
    "    y_train = train[:, -1]\n",
    "    X_test = result[row:, :-1]\n",
    "    y_test = result[row:, -1]\n",
    "    \n",
    "    X_train = np.reshape(X_train, (X_train.shape[0], X_train.shape[1], 1))\n",
    "    X_test = np.reshape(X_test, (X_test.shape[0], X_test.shape[1], 1))\n",
    "\n",
    "    return [X_train, y_train, X_test, y_test]"
   ]
  },
  {
   "cell_type": "code",
   "execution_count": 20,
   "metadata": {
    "collapsed": true
   },
   "outputs": [],
   "source": [
    "def build_model(sequence_length):\n",
    "\n",
    "    model = Sequential()\n",
    "    layers = [1, 50, 100, 1]\n",
    "    \n",
    "    model.add(LSTM(\n",
    "            input_dim=layers[0],\n",
    "            input_length=sequence_length - 1,\n",
    "            output_dim=layers[1],\n",
    "            return_sequences=True))\n",
    "    model.add(Dropout(0.2))\n",
    "    \n",
    "    model.add(LSTM(\n",
    "            layers[2],\n",
    "            return_sequences=False))\n",
    "    model.add(Dropout(0.2))\n",
    "    \n",
    "    model.add(Dense(\n",
    "            output_dim=layers[3]))\n",
    "    model.add(Activation(\"linear\"))\n",
    "    \n",
    "    start = time.time()\n",
    "    model.compile(loss=\"mse\", optimizer=\"rmsprop\")\n",
    "    print \"Compilation Time : \", time.time() - start\n",
    "    return model"
   ]
  },
  {
   "cell_type": "code",
   "execution_count": 25,
   "metadata": {
    "collapsed": false
   },
   "outputs": [
    {
     "name": "stdout",
     "output_type": "stream",
     "text": [
      "\n"
     ]
    }
   ],
   "source": [
    "def run_network(model, data, epochs = 1):\n",
    "    X_train, y_train, X_test, y_test = data\n",
    "    global_start_time = time.time()\n",
    "        \n",
    "    try:\n",
    "        model.fit(\n",
    "            X_train, y_train,\n",
    "            batch_size=512, nb_epoch=epochs, validation_split=0.05)\n",
    "        predicted = model.predict(X_test)\n",
    "        predicted = np.reshape(predicted, (predicted.size,))\n",
    "    except KeyboardInterrupt:\n",
    "        print 'Training duration (s) : ', time.time() - global_start_time\n",
    "        return model, y_test, 0\n",
    "    \n",
    "    try:\n",
    "        fig = plt.figure()\n",
    "        ax = fig.add_subplot(111)\n",
    "        ax.plot(y_test[:100])\n",
    "        plt.plot(predicted[:100])\n",
    "        plt.show()\n",
    "    except Exception as e:\n",
    "        print str(e)\n",
    "\n",
    "    print 'Training duration (s) : ', time.time() - global_start_time\n",
    "    return model, y_test, predicted"
   ]
  },
  {
   "cell_type": "code",
   "execution_count": 27,
   "metadata": {
    "collapsed": false
   },
   "outputs": [
    {
     "name": "stdout",
     "output_type": "stream",
     "text": [
      "Shift :  1.86638379299\n",
      "Data  :  (20443, 50)\n"
     ]
    },
    {
     "name": "stderr",
     "output_type": "stream",
     "text": [
      "/Users/baonguyen/tf/lib/python2.7/site-packages/ipykernel/__main__.py:28: VisibleDeprecationWarning: using a non-integer number instead of an integer will result in an error in the future\n",
      "/Users/baonguyen/tf/lib/python2.7/site-packages/ipykernel/__main__.py:32: VisibleDeprecationWarning: using a non-integer number instead of an integer will result in an error in the future\n",
      "/Users/baonguyen/tf/lib/python2.7/site-packages/ipykernel/__main__.py:33: VisibleDeprecationWarning: using a non-integer number instead of an integer will result in an error in the future\n"
     ]
    },
    {
     "name": "stdout",
     "output_type": "stream",
     "text": [
      "Compilation Time :  8.62993407249\n",
      "Train on 17479 samples, validate on 920 samples\n",
      "Epoch 1/1\n",
      "17479/17479 [==============================] - 28s - loss: 0.5689 - val_loss: 0.3877\n"
     ]
    },
    {
     "data": {
      "image/png": "[encoded data removed]",
      "text/plain": [
       "<matplotlib.figure.Figure at 0x17d16ae10>"
      ]
     },
     "metadata": {},
     "output_type": "display_data"
    },
    {
     "name": "stdout",
     "output_type": "stream",
     "text": [
      "Training duration (s) :  141.325792789\n"
     ]
    },
    {
     "data": {
      "text/plain": [
       "(<keras.models.Sequential at 0x155789f10>,\n",
       " array([-0.23038379, -0.22638379, -0.23238379, ..., -1.48038379,\n",
       "        -1.48038379, -1.48438379]),\n",
       " array([-0.22315998, -0.24726789, -0.26939461, ..., -1.11916232,\n",
       "        -1.16721022, -1.21335244]))"
      ]
     },
     "execution_count": 27,
     "metadata": {},
     "output_type": "execute_result"
    }
   ],
   "source": [
    "data = data_power_consumption(ratio = 0.01)\n",
    "model = build_model(50)\n",
    "\n",
    "run_network(model, data)"
   ]
  },
  {
   "cell_type": "code",
   "execution_count": 28,
   "metadata": {
    "collapsed": false
   },
   "outputs": [
    {
     "name": "stdout",
     "output_type": "stream",
     "text": [
      "Shift :  2.27485322\n",
      "Data  :  (2000, 50)\n"
     ]
    },
    {
     "name": "stderr",
     "output_type": "stream",
     "text": [
      "/Users/baonguyen/tf/lib/python2.7/site-packages/ipykernel/__main__.py:28: VisibleDeprecationWarning: using a non-integer number instead of an integer will result in an error in the future\n",
      "/Users/baonguyen/tf/lib/python2.7/site-packages/ipykernel/__main__.py:32: VisibleDeprecationWarning: using a non-integer number instead of an integer will result in an error in the future\n",
      "/Users/baonguyen/tf/lib/python2.7/site-packages/ipykernel/__main__.py:33: VisibleDeprecationWarning: using a non-integer number instead of an integer will result in an error in the future\n"
     ]
    },
    {
     "name": "stdout",
     "output_type": "stream",
     "text": [
      "Compilation Time :  11.3595230579\n",
      "Train on 1710 samples, validate on 90 samples\n",
      "Epoch 1/1\n",
      "1710/1710 [==============================] - 7s - loss: 1.0666 - val_loss: 0.6601\n"
     ]
    },
    {
     "data": {
      "image/png": "[encoded data removed]",
      "text/plain": [
       "<matplotlib.figure.Figure at 0x1cac75c10>"
      ]
     },
     "metadata": {},
     "output_type": "display_data"
    },
    {
     "name": "stdout",
     "output_type": "stream",
     "text": [
      "Training duration (s) :  141.069685936\n"
     ]
    },
    {
     "data": {
      "text/plain": [
       "(<keras.models.Sequential at 0x1584979d0>,\n",
       " array([-1.96885322, -1.96885322, -1.97285322, -1.97285322, -1.97485322,\n",
       "        -1.97485322, -1.97285322, -1.97485322, -1.95885322, -1.89885322,\n",
       "        -1.90085322, -1.90285322, -1.90285322, -1.90285322, -1.90685322,\n",
       "        -1.90685322, -1.90885322, -1.90885322, -1.93285322, -1.98085322,\n",
       "        -2.04485322, -2.07285322, -2.07285322, -2.07285322, -2.07085322,\n",
       "        -2.07085322, -2.07085322, -2.06885322, -2.07085322, -2.07085322,\n",
       "        -2.07285322, -2.07285322, -2.07285322, -2.07285322, -2.07285322,\n",
       "        -1.97485322, -1.96485322, -1.96685322, -1.96885322, -1.97085322,\n",
       "        -1.97485322, -1.97485322, -1.97885322, -1.97885322, -1.97885322,\n",
       "        -1.97885322, -1.97885322, -1.97885322, -1.97685322, -1.97685322,\n",
       "        -1.95085322, -1.90285322, -1.90285322, -1.90285322, -1.90685322,\n",
       "        -1.90685322, -1.90685322, -1.92685322, -1.99885322, -2.00085322,\n",
       "        -2.04885322, -1.98285322, -1.98285322, -1.98285322, -1.98085322,\n",
       "        -1.98285322, -1.98485322, -1.98485322, -1.98685322, -1.98885322,\n",
       "        -1.98885322, -1.99085322, -1.99285322, -1.87685322, -1.89285322,\n",
       "        -1.89485322, -1.89885322, -1.90085322, -1.90285322, -1.90285322,\n",
       "        -1.90485322, -1.90485322, -1.90485322, -1.90485322, -1.90485322,\n",
       "        -1.90685322, -1.90685322, -1.90685322, -1.94685322, -1.97685322,\n",
       "        -1.97885322, -1.97885322, -1.98085322, -1.90085322, -1.99485322,\n",
       "        -1.99485322, -1.99285322, -1.99285322, -1.99485322, -1.99485322,\n",
       "        -1.99885322, -1.99885322, -2.05685322, -2.07085322, -2.07085322,\n",
       "        -2.06885322, -2.06685322, -2.06485322, -2.06485322, -1.99685322,\n",
       "        -1.96085322, -1.96285322, -1.96285322, -1.96285322, -1.96285322,\n",
       "        -1.96285322, -1.96485322, -1.96685322, -1.97085322, -1.97085322,\n",
       "        -1.97085322, -1.97285322, -1.97285322, -1.97085322, -1.97085322,\n",
       "        -1.97085322, -1.97085322, -1.97285322, -1.97285322, -2.03485322,\n",
       "        -2.06485322, -2.06485322, -2.06485322, -2.06285322, -2.06285322,\n",
       "        -1.97085322, -1.98885322, -1.98885322, -1.99085322, -1.99085322,\n",
       "        -1.99285322, -1.99285322, -1.99485322, -2.01485322, -2.06685322,\n",
       "        -2.01085322, -1.95685322, -1.96285322, -1.96485322, -1.96685322,\n",
       "        -1.96685322, -1.96685322, -1.96685322, -1.96685322, -1.96685322,\n",
       "        -1.97085322, -1.96885322, -1.96885322, -1.97085322, -1.96885322,\n",
       "        -1.96885322, -1.97085322, -1.97085322, -1.97085322, -2.00285322,\n",
       "        -2.06285322, -2.06285322, -2.06485322, -2.06685322, -1.99285322,\n",
       "        -1.97885322, -1.97885322, -1.97885322, -1.97885322, -1.97885322,\n",
       "        -1.97885322, -1.97885322, -1.90685322, -1.90885322, -1.90685322,\n",
       "        -1.90685322, -1.80485322, -1.80485322, -1.81085322, -1.81685322,\n",
       "        -1.82685322, -1.89685322, -1.89885322, -1.89685322, -1.89685322,\n",
       "        -1.89685322, -1.89485322, -1.89685322, -1.89885322, -1.90285322,\n",
       "        -1.97485322, -1.97485322, -1.97685322, -1.97685322, -2.02685322]),\n",
       " array([-1.3228054 , -1.3214848 , -1.32041991, -1.31964457, -1.31911504,\n",
       "        -1.31880176, -1.31866956, -1.31864226, -1.31869888, -1.31867576,\n",
       "        -1.31801069, -1.31688058, -1.3157227 , -1.31463242, -1.31369007,\n",
       "        -1.31295657, -1.31241059, -1.31201065, -1.31173623, -1.3117764 ,\n",
       "        -1.31251693, -1.3142767 , -1.31682885, -1.31958866, -1.32215989,\n",
       "        -1.32434118, -1.32606053, -1.32734501, -1.32822251, -1.32877576,\n",
       "        -1.32909095, -1.32924962, -1.32928717, -1.32923472, -1.32912576,\n",
       "        -1.32898712, -1.32806849, -1.32635558, -1.32449555, -1.32274103,\n",
       "        -1.32126606, -1.32015896, -1.31939757, -1.31895232, -1.31875682,\n",
       "        -1.31872118, -1.31877851, -1.31891322, -1.31908977, -1.31926346,\n",
       "        -1.3194176 , -1.31932032, -1.31855834, -1.31735694, -1.31607652,\n",
       "        -1.31488752, -1.31387842, -1.31305075, -1.31257915, -1.31307745,\n",
       "        -1.31430531, -1.31614649, -1.31777382, -1.3187933 , -1.31947649,\n",
       "        -1.31983852, -1.31999886, -1.3200568 , -1.32005608, -1.32003903,\n",
       "        -1.32003725, -1.32003748, -1.32004726, -1.32008481, -1.31910372,\n",
       "        -1.31735301, -1.31558406, -1.31394494, -1.31260157, -1.31158328,\n",
       "        -1.31085622, -1.31038451, -1.31011522, -1.30998647, -1.30994856,\n",
       "        -1.30995584, -1.31002223, -1.31012714, -1.31024051, -1.31073022,\n",
       "        -1.31180596, -1.31317163, -1.31454659, -1.31580997, -1.31615973,\n",
       "        -1.31650221, -1.31726909, -1.31800306, -1.31869292, -1.31928635,\n",
       "        -1.3197552 , -1.32012868, -1.32042933, -1.32113743, -1.32233047,\n",
       "        -1.323645  , -1.32489204, -1.32595992, -1.32680738, -1.32743573,\n",
       "        -1.32734835, -1.32629132, -1.32477844, -1.32318711, -1.32170427,\n",
       "        -1.32044554, -1.31944323, -1.31870854, -1.31823051, -1.31799579,\n",
       "        -1.31794488, -1.31800735, -1.31814945, -1.31831539, -1.31848454,\n",
       "        -1.31863439, -1.3187629 , -1.31886411, -1.31895494, -1.31903243,\n",
       "        -1.31962729, -1.32091475, -1.32246852, -1.32399261, -1.32532167,\n",
       "        -1.32638061, -1.32642901, -1.32570195, -1.32480586, -1.32384419,\n",
       "        -1.32296228, -1.32221925, -1.32162464, -1.32117712, -1.32106137,\n",
       "        -1.32163393, -1.32223356, -1.32207191, -1.32145727, -1.32073259,\n",
       "        -1.32002568, -1.31943095, -1.3189764 , -1.31864476, -1.3184166 ,\n",
       "        -1.31827319, -1.31823123, -1.31824875, -1.31828141, -1.31832969,\n",
       "        -1.31837344, -1.31840444, -1.31844473, -1.31848896, -1.3185246 ,\n",
       "        -1.31883204, -1.31988275, -1.32140565, -1.32298326, -1.32447326,\n",
       "        -1.32515395, -1.3249054 , -1.32420206, -1.32329082, -1.32235467,\n",
       "        -1.32149625, -1.32076061, -1.32016337, -1.3190614 , -1.31755352,\n",
       "        -1.31605697, -1.31467056, -1.31250238, -1.30972981, -1.30708241,\n",
       "        -1.3047719 , -1.30301237, -1.30248356, -1.30293906, -1.3037852 ,\n",
       "        -1.30479264, -1.30578816, -1.30666244, -1.30740321, -1.30802238,\n",
       "        -1.30853081, -1.30961883, -1.31118083, -1.31275761, -1.31421697]))"
      ]
     },
     "execution_count": 28,
     "metadata": {},
     "output_type": "execute_result"
    }
   ],
   "source": [
    "# run again with smaller data\n",
    "data = data_power_consumption(ratio = 0.001)\n",
    "model = build_model(50)\n",
    "\n",
    "run_network(model, data)"
   ]
  },
  {
   "cell_type": "code",
   "execution_count": null,
   "metadata": {
    "collapsed": true
   },
   "outputs": [],
   "source": []
  }
 ],
 "metadata": {
  "kernelspec": {
   "display_name": "Python 2",
   "language": "python",
   "name": "python2"
  },
  "language_info": {
   "codemirror_mode": {
    "name": "ipython",
    "version": 2
   },
   "file_extension": ".py",
   "mimetype": "text/x-python",
   "name": "python",
   "nbconvert_exporter": "python",
   "pygments_lexer": "ipython2",
   "version": "2.7.10"
  }
 },
 "nbformat": 4,
 "nbformat_minor": 0
}
