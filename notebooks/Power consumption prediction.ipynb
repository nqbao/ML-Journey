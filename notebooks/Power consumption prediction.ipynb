{
 "cells": [
  {
   "cell_type": "markdown",
   "metadata": {},
   "source": [
    "This is a redo of https://github.com/Vict0rSch/deep_learning/tree/master/keras/recurrent."
   ]
  },
  {
   "cell_type": "code",
   "execution_count": 3,
   "metadata": {
    "collapsed": false
   },
   "outputs": [
    {
     "name": "stdout",
     "output_type": "stream",
     "text": [
      "--2016-07-12 16:19:11--  https://archive.ics.uci.edu/ml/machine-learning-databases/00235/household_power_consumption.zip\n",
      "Resolving archive.ics.uci.edu... 128.195.10.249\n",
      "Connecting to archive.ics.uci.edu|128.195.10.249|:443... connected.\n",
      "HTTP request sent, awaiting response... 200 OK\n",
      "Length: 20640916 (20M) [application/zip]\n",
      "Saving to: 'household_power_consumption.zip'\n",
      "\n",
      "household_power_con 100%[=====================>]  19.68M   396KB/s   in 61s    \n",
      "\n",
      "2016-07-12 16:20:13 (331 KB/s) - 'household_power_consumption.zip' saved [20640916/20640916]\n",
      "\n",
      "Archive:  household_power_consumption.zip\n",
      "  inflating: household_power_consumption.txt  \n"
     ]
    }
   ],
   "source": [
    "!wget https://archive.ics.uci.edu/ml/machine-learning-databases/00235/household_power_consumption.zip\n",
    "!unzip household_power_consumption.zip"
   ]
  },
  {
   "cell_type": "code",
   "execution_count": 1,
   "metadata": {
    "collapsed": false
   },
   "outputs": [
    {
     "name": "stderr",
     "output_type": "stream",
     "text": [
      "/Users/baonguyen/tf/lib/python2.7/site-packages/matplotlib/font_manager.py:273: UserWarning: Matplotlib is building the font cache using fc-list. This may take a moment.\n",
      "  warnings.warn('Matplotlib is building the font cache using fc-list. This may take a moment.')\n",
      "Using TensorFlow backend.\n"
     ]
    }
   ],
   "source": [
    "%matplotlib inline\n",
    "\n",
    "import matplotlib\n",
    "import matplotlib.pyplot as plt\n",
    "import numpy as np\n",
    "import time\n",
    "import csv\n",
    "from keras.models import Sequential\n",
    "from keras.layers.core import Dense, Activation, Dropout\n",
    "from keras.layers.recurrent import LSTM\n",
    "\n",
    "np.random.seed(1234)"
   ]
  },
  {
   "cell_type": "code",
   "execution_count": 2,
   "metadata": {
    "collapsed": true
   },
   "outputs": [],
   "source": [
    "def data_power_consumption(path_to_file='household_power_consumption.txt', sequence_length=50, ratio=1.0):\n",
    "    max_values = ratio * 2049280\n",
    "\n",
    "    with open(path_to_file) as f:\n",
    "        data = csv.reader(f, delimiter=\";\")\n",
    "        power = []\n",
    "        nb_of_values = 0\n",
    "        for line in data:\n",
    "            try:\n",
    "                power.append(float(line[2]))\n",
    "                nb_of_values += 1\n",
    "            except ValueError:\n",
    "                pass\n",
    "            # 2049280.0 is the total number of valid values, i.e. ratio = 1.0\n",
    "            if nb_of_values / 2049280.0 >= ratio:\n",
    "                break\n",
    "                \n",
    "    result = []\n",
    "    for index in range(len(power) - sequence_length):\n",
    "        result.append(power[index: index + sequence_length])\n",
    "    result = np.array(result)  # shape (2049230, 50)\n",
    "    result_mean = result.mean()\n",
    "    result -= result_mean\n",
    "    print \"Shift : \", result_mean\n",
    "    print \"Data  : \", result.shape\n",
    "\n",
    "    row = round(0.9 * result.shape[0])\n",
    "    train = result[:row, :]\n",
    "    np.random.shuffle(train)\n",
    "    X_train = train[:, :-1]\n",
    "    y_train = train[:, -1]\n",
    "    X_test = result[row:, :-1]\n",
    "    y_test = result[row:, -1]\n",
    "    \n",
    "    X_train = np.reshape(X_train, (X_train.shape[0], X_train.shape[1], 1))\n",
    "    X_test = np.reshape(X_test, (X_test.shape[0], X_test.shape[1], 1))\n",
    "\n",
    "    return [X_train, y_train, X_test, y_test]"
   ]
  },
  {
   "cell_type": "code",
   "execution_count": 3,
   "metadata": {
    "collapsed": true
   },
   "outputs": [],
   "source": [
    "def build_model(sequence_length):\n",
    "\n",
    "    model = Sequential()\n",
    "    layers = [1, 50, 100, 1]\n",
    "    \n",
    "    model.add(LSTM(\n",
    "            input_dim=layers[0],\n",
    "            input_length=sequence_length - 1,\n",
    "            output_dim=layers[1],\n",
    "            return_sequences=True))\n",
    "    model.add(Dropout(0.2))\n",
    "    \n",
    "    model.add(LSTM(\n",
    "            layers[2],\n",
    "            return_sequences=False))\n",
    "    model.add(Dropout(0.2))\n",
    "    \n",
    "    model.add(Dense(\n",
    "            output_dim=layers[3]))\n",
    "    model.add(Activation(\"linear\"))\n",
    "    \n",
    "    start = time.time()\n",
    "    model.compile(loss=\"mse\", optimizer=\"rmsprop\")\n",
    "    print \"Compilation Time : \", time.time() - start\n",
    "    return model"
   ]
  },
  {
   "cell_type": "code",
   "execution_count": 4,
   "metadata": {
    "collapsed": false
   },
   "outputs": [],
   "source": [
    "def run_network(model, data, epochs = 1):\n",
    "    X_train, y_train, X_test, y_test = data\n",
    "    global_start_time = time.time()\n",
    "        \n",
    "    try:\n",
    "        model.fit(\n",
    "            X_train, y_train,\n",
    "            batch_size=512, nb_epoch=epochs, validation_split=0.05)\n",
    "        predicted = model.predict(X_test)\n",
    "        predicted = np.reshape(predicted, (predicted.size,))\n",
    "    except KeyboardInterrupt:\n",
    "        print 'Training duration (s) : ', time.time() - global_start_time\n",
    "        return model, y_test, 0\n",
    "    \n",
    "    try:\n",
    "        fig = plt.figure()\n",
    "        ax = fig.add_subplot(111)\n",
    "        ax.plot(y_test[:100])\n",
    "        plt.plot(predicted[:100])\n",
    "        plt.show()\n",
    "    except Exception as e:\n",
    "        print str(e)\n",
    "\n",
    "    print 'Training duration (s) : ', time.time() - global_start_time\n",
    "    return model, y_test, predicted"
   ]
  },
  {
   "cell_type": "code",
   "execution_count": 27,
   "metadata": {
    "collapsed": false
   },
   "outputs": [
    {
     "name": "stdout",
     "output_type": "stream",
     "text": [
      "Shift :  1.86638379299\n",
      "Data  :  (20443, 50)\n"
     ]
    },
    {
     "name": "stderr",
     "output_type": "stream",
     "text": [
      "/Users/baonguyen/tf/lib/python2.7/site-packages/ipykernel/__main__.py:28: VisibleDeprecationWarning: using a non-integer number instead of an integer will result in an error in the future\n",
      "/Users/baonguyen/tf/lib/python2.7/site-packages/ipykernel/__main__.py:32: VisibleDeprecationWarning: using a non-integer number instead of an integer will result in an error in the future\n",
      "/Users/baonguyen/tf/lib/python2.7/site-packages/ipykernel/__main__.py:33: VisibleDeprecationWarning: using a non-integer number instead of an integer will result in an error in the future\n"
     ]
    },
    {
     "name": "stdout",
     "output_type": "stream",
     "text": [
      "Compilation Time :  8.62993407249\n",
      "Train on 17479 samples, validate on 920 samples\n",
      "Epoch 1/1\n",
      "17479/17479 [==============================] - 28s - loss: 0.5689 - val_loss: 0.3877\n"
     ]
    },
    {
     "data": {
      "image/png": "[encoded data removed]",
      "text/plain": [
       "<matplotlib.figure.Figure at 0x17d16ae10>"
      ]
     },
     "metadata": {},
     "output_type": "display_data"
    },
    {
     "name": "stdout",
     "output_type": "stream",
     "text": [
      "Training duration (s) :  141.325792789\n"
     ]
    },
    {
     "data": {
      "text/plain": [
       "(<keras.models.Sequential at 0x155789f10>,\n",
       " array([-0.23038379, -0.22638379, -0.23238379, ..., -1.48038379,\n",
       "        -1.48038379, -1.48438379]),\n",
       " array([-0.22315998, -0.24726789, -0.26939461, ..., -1.11916232,\n",
       "        -1.16721022, -1.21335244]))"
      ]
     },
     "execution_count": 27,
     "metadata": {},
     "output_type": "execute_result"
    }
   ],
   "source": [
    "data = data_power_consumption(ratio = 0.01)\n",
    "model = build_model(50)\n",
    "\n",
    "run_network(model, data)"
   ]
  },
  {
   "cell_type": "code",
   "execution_count": 6,
   "metadata": {
    "collapsed": false,
    "scrolled": false
   },
   "outputs": [
    {
     "name": "stdout",
     "output_type": "stream",
     "text": [
      "Shift :  2.27485322\n",
      "Data  :  (2000, 50)\n"
     ]
    },
    {
     "name": "stderr",
     "output_type": "stream",
     "text": [
      "/Users/baonguyen/tf/lib/python2.7/site-packages/ipykernel/__main__.py:28: VisibleDeprecationWarning: using a non-integer number instead of an integer will result in an error in the future\n",
      "/Users/baonguyen/tf/lib/python2.7/site-packages/ipykernel/__main__.py:32: VisibleDeprecationWarning: using a non-integer number instead of an integer will result in an error in the future\n",
      "/Users/baonguyen/tf/lib/python2.7/site-packages/ipykernel/__main__.py:33: VisibleDeprecationWarning: using a non-integer number instead of an integer will result in an error in the future\n"
     ]
    },
    {
     "name": "stdout",
     "output_type": "stream",
     "text": [
      "Compilation Time :  2.88710594177\n",
      "Train on 1710 samples, validate on 90 samples\n",
      "Epoch 1/10\n",
      "1710/1710 [==============================] - 5s - loss: 0.9026 - val_loss: 0.4685\n",
      "Epoch 2/10\n",
      "1710/1710 [==============================] - 2s - loss: 0.6595 - val_loss: 0.4984\n",
      "Epoch 3/10\n",
      "1710/1710 [==============================] - 2s - loss: 0.6322 - val_loss: 0.4458\n",
      "Epoch 4/10\n",
      "1710/1710 [==============================] - 2s - loss: 0.6056 - val_loss: 0.4256\n",
      "Epoch 5/10\n",
      "1710/1710 [==============================] - 2s - loss: 0.6012 - val_loss: 0.4484\n",
      "Epoch 6/10\n",
      "1710/1710 [==============================] - 2s - loss: 0.5907 - val_loss: 0.4477\n",
      "Epoch 7/10\n",
      "1710/1710 [==============================] - 2s - loss: 0.5866 - val_loss: 0.4421\n",
      "Epoch 8/10\n",
      "1710/1710 [==============================] - 2s - loss: 0.5750 - val_loss: 0.4434\n",
      "Epoch 9/10\n",
      "1710/1710 [==============================] - 2s - loss: 0.5684 - val_loss: 0.4655\n",
      "Epoch 10/10\n",
      "1710/1710 [==============================] - 2s - loss: 0.5633 - val_loss: 0.4217\n"
     ]
    },
    {
     "data": {
      "image/png": "[encoded data removed]",
      "text/plain": [
       "<matplotlib.figure.Figure at 0x111d849d0>"
      ]
     },
     "metadata": {},
     "output_type": "display_data"
    },
    {
     "name": "stdout",
     "output_type": "stream",
     "text": [
      "Training duration (s) :  85.6741030216\n"
     ]
    },
    {
     "data": {
      "text/plain": [
       "(<keras.models.Sequential at 0x12f198d50>,\n",
       " array([-1.96885322, -1.96885322, -1.97285322, -1.97285322, -1.97485322,\n",
       "        -1.97485322, -1.97285322, -1.97485322, -1.95885322, -1.89885322,\n",
       "        -1.90085322, -1.90285322, -1.90285322, -1.90285322, -1.90685322,\n",
       "        -1.90685322, -1.90885322, -1.90885322, -1.93285322, -1.98085322,\n",
       "        -2.04485322, -2.07285322, -2.07285322, -2.07285322, -2.07085322,\n",
       "        -2.07085322, -2.07085322, -2.06885322, -2.07085322, -2.07085322,\n",
       "        -2.07285322, -2.07285322, -2.07285322, -2.07285322, -2.07285322,\n",
       "        -1.97485322, -1.96485322, -1.96685322, -1.96885322, -1.97085322,\n",
       "        -1.97485322, -1.97485322, -1.97885322, -1.97885322, -1.97885322,\n",
       "        -1.97885322, -1.97885322, -1.97885322, -1.97685322, -1.97685322,\n",
       "        -1.95085322, -1.90285322, -1.90285322, -1.90285322, -1.90685322,\n",
       "        -1.90685322, -1.90685322, -1.92685322, -1.99885322, -2.00085322,\n",
       "        -2.04885322, -1.98285322, -1.98285322, -1.98285322, -1.98085322,\n",
       "        -1.98285322, -1.98485322, -1.98485322, -1.98685322, -1.98885322,\n",
       "        -1.98885322, -1.99085322, -1.99285322, -1.87685322, -1.89285322,\n",
       "        -1.89485322, -1.89885322, -1.90085322, -1.90285322, -1.90285322,\n",
       "        -1.90485322, -1.90485322, -1.90485322, -1.90485322, -1.90485322,\n",
       "        -1.90685322, -1.90685322, -1.90685322, -1.94685322, -1.97685322,\n",
       "        -1.97885322, -1.97885322, -1.98085322, -1.90085322, -1.99485322,\n",
       "        -1.99485322, -1.99285322, -1.99285322, -1.99485322, -1.99485322,\n",
       "        -1.99885322, -1.99885322, -2.05685322, -2.07085322, -2.07085322,\n",
       "        -2.06885322, -2.06685322, -2.06485322, -2.06485322, -1.99685322,\n",
       "        -1.96085322, -1.96285322, -1.96285322, -1.96285322, -1.96285322,\n",
       "        -1.96285322, -1.96485322, -1.96685322, -1.97085322, -1.97085322,\n",
       "        -1.97085322, -1.97285322, -1.97285322, -1.97085322, -1.97085322,\n",
       "        -1.97085322, -1.97085322, -1.97285322, -1.97285322, -2.03485322,\n",
       "        -2.06485322, -2.06485322, -2.06485322, -2.06285322, -2.06285322,\n",
       "        -1.97085322, -1.98885322, -1.98885322, -1.99085322, -1.99085322,\n",
       "        -1.99285322, -1.99285322, -1.99485322, -2.01485322, -2.06685322,\n",
       "        -2.01085322, -1.95685322, -1.96285322, -1.96485322, -1.96685322,\n",
       "        -1.96685322, -1.96685322, -1.96685322, -1.96685322, -1.96685322,\n",
       "        -1.97085322, -1.96885322, -1.96885322, -1.97085322, -1.96885322,\n",
       "        -1.96885322, -1.97085322, -1.97085322, -1.97085322, -2.00285322,\n",
       "        -2.06285322, -2.06285322, -2.06485322, -2.06685322, -1.99285322,\n",
       "        -1.97885322, -1.97885322, -1.97885322, -1.97885322, -1.97885322,\n",
       "        -1.97885322, -1.97885322, -1.90685322, -1.90885322, -1.90685322,\n",
       "        -1.90685322, -1.80485322, -1.80485322, -1.81085322, -1.81685322,\n",
       "        -1.82685322, -1.89685322, -1.89885322, -1.89685322, -1.89685322,\n",
       "        -1.89685322, -1.89485322, -1.89685322, -1.89885322, -1.90285322,\n",
       "        -1.97485322, -1.97485322, -1.97685322, -1.97685322, -2.02685322]),\n",
       " array([-1.81980109, -1.81436086, -1.809008  , -1.80403435, -1.79950249,\n",
       "        -1.79548252, -1.79194081, -1.78879023, -1.78610408, -1.78332818,\n",
       "        -1.77868164, -1.77323711, -1.76769686, -1.76241076, -1.75760114,\n",
       "        -1.75350666, -1.75010037, -1.74742746, -1.74538314, -1.74470508,\n",
       "        -1.74656284, -1.75197625, -1.76012468, -1.76947725, -1.77908802,\n",
       "        -1.78831601, -1.7968446 , -1.8044945 , -1.81114995, -1.81689227,\n",
       "        -1.82173657, -1.82575166, -1.82899892, -1.83153188, -1.83341742,\n",
       "        -1.83472705, -1.83259976, -1.82806408, -1.82232881, -1.81613386,\n",
       "        -1.80999565, -1.80428302, -1.79907024, -1.79451644, -1.79057801,\n",
       "        -1.78721499, -1.78441751, -1.78210819, -1.780249  , -1.77873445,\n",
       "        -1.77755094, -1.77583146, -1.77233934, -1.76801252, -1.76346731,\n",
       "        -1.75919354, -1.75535476, -1.75201833, -1.749892  , -1.75108218,\n",
       "        -1.75426269, -1.76002467, -1.76497281, -1.7691952 , -1.77286625,\n",
       "        -1.77597249, -1.77868295, -1.78110003, -1.78320432, -1.78504884,\n",
       "        -1.78667247, -1.7880553 , -1.78926086, -1.79033053, -1.78746653,\n",
       "        -1.78284252, -1.7775017 , -1.77207422, -1.76694059, -1.76229894,\n",
       "        -1.75817788, -1.75464869, -1.7516706 , -1.74920475, -1.74721766,\n",
       "        -1.74570012, -1.74464762, -1.74398029, -1.74363124, -1.74491155,\n",
       "        -1.74814665, -1.75245523, -1.75720453, -1.7620641 , -1.76411164,\n",
       "        -1.76748526, -1.7715286 , -1.775612  , -1.77952778, -1.78316844,\n",
       "        -1.78643107, -1.78940165, -1.79199612, -1.79600632, -1.80103457,\n",
       "        -1.80631268, -1.81134748, -1.81583774, -1.81962419, -1.82274568,\n",
       "        -1.82318354, -1.82081115, -1.81687665, -1.81214201, -1.80710602,\n",
       "        -1.80209553, -1.79730082, -1.79289901, -1.78898907, -1.78568482,\n",
       "        -1.7829107 , -1.78060699, -1.77879512, -1.77744067, -1.77636898,\n",
       "        -1.77556467, -1.7750026 , -1.77465427, -1.77455592, -1.77464938,\n",
       "        -1.77687454, -1.78122091, -1.78657961, -1.79227328, -1.79781711,\n",
       "        -1.80297816, -1.80482543, -1.805107  , -1.8044616 , -1.80329382,\n",
       "        -1.80186677, -1.80038512, -1.798908  , -1.79756117, -1.79691291,\n",
       "        -1.79833162, -1.79915178, -1.7978251 , -1.79549217, -1.79274619,\n",
       "        -1.7899456 , -1.78726864, -1.78478527, -1.78255188, -1.78058743,\n",
       "        -1.77889454, -1.77759588, -1.77655721, -1.77575278, -1.77524841,\n",
       "        -1.7749114 , -1.77471197, -1.77470148, -1.77483094, -1.7750622 ,\n",
       "        -1.77639961, -1.78024602, -1.78537107, -1.79102635, -1.79677808,\n",
       "        -1.8000083 , -1.80109668, -1.80087662, -1.79985559, -1.79839265,\n",
       "        -1.7967155 , -1.79496074, -1.79321098, -1.78918386, -1.78399158,\n",
       "        -1.77832186, -1.77263141, -1.76372075, -1.75330162, -1.74278533,\n",
       "        -1.73299253, -1.72452867, -1.71988821, -1.71788156, -1.71752524,\n",
       "        -1.71829116, -1.71979225, -1.72169721, -1.72392428, -1.72639382,\n",
       "        -1.72914135, -1.73446202, -1.74105597, -1.74812436, -1.75514507]))"
      ]
     },
     "execution_count": 6,
     "metadata": {},
     "output_type": "execute_result"
    }
   ],
   "source": [
    "# run again with smaller data\n",
    "data = data_power_consumption(ratio = 0.001)\n",
    "model = build_model(50)\n",
    "\n",
    "run_network(model, data, 10)"
   ]
  },
  {
   "cell_type": "code",
   "execution_count": null,
   "metadata": {
    "collapsed": true
   },
   "outputs": [],
   "source": []
  }
 ],
 "metadata": {
  "kernelspec": {
   "display_name": "Python 2",
   "language": "python",
   "name": "python2"
  },
  "language_info": {
   "codemirror_mode": {
    "name": "ipython",
    "version": 2
   },
   "file_extension": ".py",
   "mimetype": "text/x-python",
   "name": "python",
   "nbconvert_exporter": "python",
   "pygments_lexer": "ipython2",
   "version": "2.7.10"
  }
 },
 "nbformat": 4,
 "nbformat_minor": 0
}
